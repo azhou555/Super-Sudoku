{
 "cells": [
  {
   "cell_type": "code",
   "execution_count": 77,
   "metadata": {},
   "outputs": [
    {
     "name": "stdout",
     "output_type": "stream",
     "text": [
      "Note: you may need to restart the kernel to use updated packages.\n",
      "Requirement already satisfied: python-dotenv in c:\\users\\alec1\\coding projects\\super sudoku\\.venv\\lib\\site-packages (1.0.1)Note: you may need to restart the kernel to use updated packages.\n",
      "\n"
     ]
    }
   ],
   "source": [
    "%pip install -qU pypdf \n",
    "%pip install python-dotenv"
   ]
  },
  {
   "cell_type": "code",
   "execution_count": 78,
   "metadata": {},
   "outputs": [],
   "source": [
    "from langchain_community.document_loaders import PyPDFLoader\n",
    "from dotenv import load_dotenv\n",
    "file_path = \"./solving_sudoku.pdf\"\n",
    "loader = PyPDFLoader(file_path)\n",
    "\n",
    "load_dotenv()\n",
    "docs = loader.load()"
   ]
  },
  {
   "cell_type": "code",
   "execution_count": 79,
   "metadata": {},
   "outputs": [],
   "source": [
    "import getpass\n",
    "import os\n",
    "\n",
    "os.environ[\"OPENAI_API_KEY\"] = os.getenv(\"API_KEY\")\n",
    "\n",
    "from langchain_openai import ChatOpenAI\n",
    "\n",
    "llm = ChatOpenAI(model=\"gpt-4o\")"
   ]
  },
  {
   "cell_type": "code",
   "execution_count": 40,
   "metadata": {},
   "outputs": [],
   "source": [
    "from langchain_core.vectorstores import InMemoryVectorStore\n",
    "from langchain_openai import OpenAIEmbeddings\n",
    "from langchain_text_splitters import RecursiveCharacterTextSplitter\n",
    "\n",
    "text_splitter = RecursiveCharacterTextSplitter(chunk_size=1000, chunk_overlap=200)\n",
    "splits = text_splitter.split_documents(docs)\n",
    "vectorstore = InMemoryVectorStore.from_documents(\n",
    "    documents=splits, embedding=OpenAIEmbeddings()\n",
    ")\n",
    "\n",
    "retriever = vectorstore.as_retriever()"
   ]
  },
  {
   "cell_type": "code",
   "execution_count": 56,
   "metadata": {},
   "outputs": [],
   "source": [
    "from langchain.chains import create_retrieval_chain\n",
    "from langchain.chains.combine_documents import create_stuff_documents_chain\n",
    "from langchain_core.prompts import ChatPromptTemplate\n",
    "\n",
    "system_prompt = (\n",
    "    \"You are an assistant for solving sudoku.\"\n",
    "    \"You will be provided with the current state of the puzzle as well as the solution of the puzzle.\" \n",
    "    \"Choose a random cell that you think can be deduced from the current state of the puzzle and decide which number belongs there.\"\n",
    "    #\"Verify that the number you deduced is correct, using the solution. \"\n",
    "    \"Explain the logic that led you to that number, without referencing the solution.\"\n",
    "    \"\\n\\n\"\n",
    "    \"{context}\"\n",
    ")\n",
    "\n",
    "prompt = ChatPromptTemplate.from_messages(\n",
    "    [\n",
    "        (\"system\", system_prompt),\n",
    "        (\"human\", \"{input}\"),\n",
    "    ]\n",
    ")\n",
    "\n",
    "\n",
    "question_answer_chain = create_stuff_documents_chain(llm, prompt)\n",
    "rag_chain = create_retrieval_chain(retriever, question_answer_chain)"
   ]
  },
  {
   "cell_type": "code",
   "execution_count": 46,
   "metadata": {},
   "outputs": [],
   "source": [
    "from sudoku import Sudoku"
   ]
  },
  {
   "cell_type": "code",
   "execution_count": 76,
   "metadata": {},
   "outputs": [
    {
     "name": "stdout",
     "output_type": "stream",
     "text": [
      "Puzzle has multiple solutions\n",
      "+-------+-------+-------+\n",
      "|       |   1   |       |\n",
      "|       |       |       |\n",
      "| 3     |       |       |\n",
      "+-------+-------+-------+\n",
      "|       |       |       |\n",
      "|       |       |       |\n",
      "|   8   |       |       |\n",
      "+-------+-------+-------+\n",
      "|     6 |   2   |       |\n",
      "|       |     6 |   3   |\n",
      "|   1   |   7 8 |       |\n",
      "+-------+-------+-------+\n",
      "\n"
     ]
    }
   ],
   "source": [
    "new_sudoku = Sudoku(3).difficulty(0.9)\n",
    "new_sudoku.board[8][4] = 7;\n",
    "new_sudoku.show()"
   ]
  },
  {
   "cell_type": "code",
   "execution_count": 64,
   "metadata": {},
   "outputs": [
    {
     "name": "stdout",
     "output_type": "stream",
     "text": [
      "Let's examine the puzzle and see if we can determine the value for a specific cell using logic.\n",
      "\n",
      "### Initial Observations:\n",
      "- The given puzzle is a 9x9 Sudoku grid with some cells already filled.\n",
      "- We have the following initial numbers placed in the grid:\n",
      "  - Row 1: 1 at column 5\n",
      "  - Row 3: 3 at column 1\n",
      "  - Row 6: 8 at column 2\n",
      "  - Row 7: 6 at column 3, and 2 at column 5\n",
      "  - Row 8: 6 at column 6, and 3 at column 8\n",
      "  - Row 9: 1 at column 2, and 8 at column 6\n",
      "\n",
      "### Step-by-Step Deduction:\n",
      "Let's focus on a particular box to deduce a number. Consider the bottom middle 3x3 box (rows 7 to 9, columns 4 to 6). We know:\n",
      "- Row 7 has a 6 at column 3 and a 2 at column 5.\n",
      "- Row 8 has a 6 at column 6.\n",
      "- Row 9 has an 8 at column 6.\n",
      "\n",
      "Let's focus on cell (9, 5):\n",
      "- The numbers available to place in this box (based on the given values in this box) are: 2, 4, 5, 7, and 9.\n",
      "- However, we have a 2 in row 7, column 5, so 2 cannot be placed in cell (9, 5).\n",
      "- The number 8 is already in row 9, and 6 in row 8, so those can't be placed in (9, 5).\n",
      "\n",
      "Now, let's check column 5:\n",
      "- Column 5 has a 1 in row 1.\n",
      "- Column 5 has a 2 in row 7.\n",
      "- Column 5 has a 6 in row 8.\n",
      "  \n",
      "Thus, the only number that can be placed in cell (9, 5) is 7, as it is the only number left that does not conflict with the current numbers in the row, column, and box.\n",
      "\n",
      "Therefore, the number for the cell (9, 5) is 7.\n"
     ]
    }
   ],
   "source": [
    "results = rag_chain.invoke({\"input\": str(new_sudoku.board)+str(new_sudoku.solve().board)})\n",
    "print(results['answer'])"
   ]
  },
  {
   "cell_type": "code",
   "execution_count": 71,
   "metadata": {},
   "outputs": [
    {
     "name": "stdout",
     "output_type": "stream",
     "text": [
      "Puzzle has exactly one solution\n",
      "+-------+-------+-------+\n",
      "| 2 6 4 | 8 1 3 | 7 9 5 |\n",
      "| 1 7 5 | 9 6 4 | 3 2 8 |\n",
      "| 3 9 8 | 2 5 7 | 4 6 1 |\n",
      "+-------+-------+-------+\n",
      "| 7 4 2 | 6 9 1 | 5 8 3 |\n",
      "| 6 5 3 | 7 8 2 | 9 1 4 |\n",
      "| 9 8 1 | 4 3 5 | 6 7 2 |\n",
      "+-------+-------+-------+\n",
      "| 8 3 6 | 5 2 9 | 1 4 7 |\n",
      "| 5 2 7 | 1 4 6 | 8 3 9 |\n",
      "| 4 1 9 | 3 7 8 | 2 5 6 |\n",
      "+-------+-------+-------+\n",
      "\n"
     ]
    }
   ],
   "source": [
    "solution = new_sudoku.solve()\n",
    "solution.show()"
   ]
  }
 ],
 "metadata": {
  "kernelspec": {
   "display_name": ".venv",
   "language": "python",
   "name": "python3"
  },
  "language_info": {
   "codemirror_mode": {
    "name": "ipython",
    "version": 3
   },
   "file_extension": ".py",
   "mimetype": "text/x-python",
   "name": "python",
   "nbconvert_exporter": "python",
   "pygments_lexer": "ipython3",
   "version": "3.11.9"
  }
 },
 "nbformat": 4,
 "nbformat_minor": 2
}
